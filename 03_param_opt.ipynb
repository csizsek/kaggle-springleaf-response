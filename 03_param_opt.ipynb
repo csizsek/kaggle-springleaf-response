{
 "cells": [
  {
   "cell_type": "code",
   "execution_count": null,
   "metadata": {
    "collapsed": true
   },
   "outputs": [],
   "source": [
    "import numpy as np\n",
    "import pandas as pd\n",
    "from pandas import DataFrame, Series\n",
    "import matplotlib.pyplot as plt\n",
    "from sklearn.metrics import roc_auc_score\n",
    "import xgboost as xgb\n",
    "from sklearn import grid_search"
   ]
  },
  {
   "cell_type": "code",
   "execution_count": null,
   "metadata": {
    "collapsed": true
   },
   "outputs": [],
   "source": [
    "d = pd.read_csv('tmp/engineered_features_02.csv', nrows=15000)"
   ]
  },
  {
   "cell_type": "code",
   "execution_count": null,
   "metadata": {
    "collapsed": true
   },
   "outputs": [],
   "source": [
    "tr = d.head(10000)\n",
    "trl = tr.target\n",
    "del tr['target']\n",
    "te = d.tail(5000)\n",
    "tel = te.target\n",
    "del te['target']\n",
    "d = None"
   ]
  },
  {
   "cell_type": "code",
   "execution_count": null,
   "metadata": {
    "collapsed": false
   },
   "outputs": [],
   "source": [
    "parameters = {\n",
    "    'max_depth':[5, 10, 15],\n",
    "    'n_estimators':[100],\n",
    "    'learning_rate': [0.01, 0.05, 0.1],\n",
    "    'nthread': [6]}\n",
    "m = xgb.XGBClassifier()\n",
    "gsm = grid_search.GridSearchCV(m, parameters, scoring='roc_auc')\n",
    "fm = gsm.fit(tr, trl)\n",
    "fm.best_params_"
   ]
  },
  {
   "cell_type": "code",
   "execution_count": null,
   "metadata": {
    "collapsed": false
   },
   "outputs": [],
   "source": [
    "parameters = {\n",
    "    'max_depth':[5],\n",
    "    'n_estimators':[80, 100, 120],\n",
    "    'learning_rate': [0.05],\n",
    "    'nthread': [6]}\n",
    "m = xgb.XGBClassifier()\n",
    "gsm = grid_search.GridSearchCV(m, parameters, scoring='roc_auc')\n",
    "fm = gsm.fit(tr, trl)\n",
    "fm.best_params_"
   ]
  },
  {
   "cell_type": "code",
   "execution_count": null,
   "metadata": {
    "collapsed": false
   },
   "outputs": [],
   "source": [
    "m = xgb.XGBClassifier(n_estimators=100, max_depth=5, learning_rate=0.05, nthread=6)\n",
    "m.fit(tr, trl)\n",
    "preds = m.predict_proba(te)\n",
    "roc_auc_score(tel, preds[:,1])"
   ]
  },
  {
   "cell_type": "code",
   "execution_count": null,
   "metadata": {
    "collapsed": false
   },
   "outputs": [],
   "source": [
    "parameters = {\n",
    "    'max_depth':[5],\n",
    "    'n_estimators':[100],\n",
    "    'learning_rate': [0.05],\n",
    "    'min_child_weight': [3, 10, 30],\n",
    "    'nthread': [6]}\n",
    "m = xgb.XGBClassifier()\n",
    "gsm = grid_search.GridSearchCV(m, parameters, scoring='roc_auc')\n",
    "fm = gsm.fit(tr, trl)\n",
    "fm.best_params_"
   ]
  },
  {
   "cell_type": "code",
   "execution_count": null,
   "metadata": {
    "collapsed": false
   },
   "outputs": [],
   "source": [
    "parameters = {\n",
    "    'max_depth':[5],\n",
    "    'n_estimators':[100],\n",
    "    'learning_rate': [0.05],\n",
    "    'min_child_weight': [30],\n",
    "    'gamma': [0.1, 0.05, 0.01],\n",
    "    'nthread': [6]}\n",
    "m = xgb.XGBClassifier()\n",
    "gsm = grid_search.GridSearchCV(m, parameters, scoring='roc_auc')\n",
    "fm = gsm.fit(tr, trl)\n",
    "fm.best_params_"
   ]
  },
  {
   "cell_type": "code",
   "execution_count": null,
   "metadata": {
    "collapsed": false
   },
   "outputs": [],
   "source": [
    "parameters = {\n",
    "    'max_depth':[5],\n",
    "    'n_estimators':[100],\n",
    "    'learning_rate': [0.05],\n",
    "    'min_child_weight': [30],\n",
    "    'gamma': [0.13, 0.1, 0.08],\n",
    "    'nthread': [6]}\n",
    "m = xgb.XGBClassifier()\n",
    "gsm = grid_search.GridSearchCV(m, parameters, scoring='roc_auc')\n",
    "fm = gsm.fit(tr, trl)\n",
    "fm.best_params_"
   ]
  },
  {
   "cell_type": "code",
   "execution_count": null,
   "metadata": {
    "collapsed": false
   },
   "outputs": [],
   "source": [
    "m = xgb.XGBClassifier(n_estimators=100, max_depth=5, learning_rate=0.05, nthread=6, min_child_weight=30, gamma=0.13)\n",
    "m.fit(tr, trl)\n",
    "preds = m.predict_proba(te)\n",
    "roc_auc_score(tel, preds[:,1])"
   ]
  },
  {
   "cell_type": "code",
   "execution_count": null,
   "metadata": {
    "collapsed": false
   },
   "outputs": [],
   "source": [
    "m = xgb.XGBClassifier(n_estimators=100, max_depth=5, learning_rate=0.05, nthread=6, min_child_weight=30)\n",
    "m.fit(tr, trl)\n",
    "preds = m.predict_proba(te)\n",
    "roc_auc_score(tel, preds[:,1])"
   ]
  },
  {
   "cell_type": "code",
   "execution_count": null,
   "metadata": {
    "collapsed": false
   },
   "outputs": [],
   "source": [
    "m = xgb.XGBClassifier(n_estimators=100, max_depth=5, learning_rate=0.05, nthread=6, gamma=0.13)\n",
    "m.fit(tr, trl)\n",
    "preds = m.predict_proba(te)\n",
    "roc_auc_score(tel, preds[:,1])"
   ]
  },
  {
   "cell_type": "code",
   "execution_count": null,
   "metadata": {
    "collapsed": false
   },
   "outputs": [],
   "source": [
    "m = xgb.XGBClassifier(n_estimators=100, max_depth=5, learning_rate=0.05, nthread=6, gamma=0.23)\n",
    "m.fit(tr, trl)\n",
    "preds = m.predict_proba(te)\n",
    "roc_auc_score(tel, preds[:,1])"
   ]
  },
  {
   "cell_type": "code",
   "execution_count": null,
   "metadata": {
    "collapsed": false
   },
   "outputs": [],
   "source": [
    "m = xgb.XGBClassifier(n_estimators=100, max_depth=5, learning_rate=0.05, nthread=6)\n",
    "m.fit(tr, trl)\n",
    "preds = m.predict_proba(te)\n",
    "roc_auc_score(tel, preds[:,1])"
   ]
  }
 ],
 "metadata": {
  "kernelspec": {
   "display_name": "Python 2",
   "language": "python",
   "name": "python2"
  },
  "language_info": {
   "codemirror_mode": {
    "name": "ipython",
    "version": 2
   },
   "file_extension": ".py",
   "mimetype": "text/x-python",
   "name": "python",
   "nbconvert_exporter": "python",
   "pygments_lexer": "ipython2",
   "version": "2.7.10"
  }
 },
 "nbformat": 4,
 "nbformat_minor": 0
}
