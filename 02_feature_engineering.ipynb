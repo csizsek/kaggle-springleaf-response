{
 "cells": [
  {
   "cell_type": "code",
   "execution_count": null,
   "metadata": {
    "collapsed": false
   },
   "outputs": [],
   "source": [
    "import numpy as np\n",
    "import pandas as pd\n",
    "from pandas import DataFrame, Series\n",
    "import matplotlib.pyplot as plt\n",
    "from sklearn.ensemble import RandomForestClassifier\n",
    "from sklearn.feature_selection import SelectKBest\n",
    "from sklearn.feature_selection import chi2\n",
    "from sklearn.feature_selection import VarianceThreshold"
   ]
  },
  {
   "cell_type": "code",
   "execution_count": null,
   "metadata": {
    "collapsed": false
   },
   "outputs": [],
   "source": [
    "%pylab inline"
   ]
  },
  {
   "cell_type": "code",
   "execution_count": null,
   "metadata": {
    "collapsed": false
   },
   "outputs": [],
   "source": [
    "tr = pd.read_csv('input/train.csv')\n",
    "te = pd.read_csv('input/test.csv')\n",
    "d = pd.concat([tr, te])\n",
    "tr = None\n",
    "te = None"
   ]
  },
  {
   "cell_type": "code",
   "execution_count": null,
   "metadata": {
    "collapsed": false
   },
   "outputs": [],
   "source": [
    "dl = d.target\n",
    "del d['target']"
   ]
  },
  {
   "cell_type": "code",
   "execution_count": null,
   "metadata": {
    "collapsed": false
   },
   "outputs": [],
   "source": [
    "TOP_N = 10\n",
    "\n",
    "def proc_obj_few(c):\n",
    "    c = c.fillna('MISSING_VALUE')\n",
    "    return pd.get_dummies(c, prefix=c.name)\n",
    "\n",
    "def top_value_or_other_obj(v, top_values):\n",
    "    if v in top_values:\n",
    "        return v\n",
    "    return 'OTHER_VALUE'\n",
    "\n",
    "def proc_obj_many_conc(c):\n",
    "    c = c.fillna('MISSING_VALUE')\n",
    "    top_values = c.value_counts().head(TOP_N).index.tolist()\n",
    "    c = c.apply(lambda v: top_value_or_other_obj(v, top_values))\n",
    "    return pd.get_dummies(c, prefix=c.name)\n",
    "\n",
    "def proc_num_few(c):\n",
    "    c = c.fillna(-73)\n",
    "    return DataFrame(c)\n",
    "\n",
    "def top_value_or_other_num(v, top_values):\n",
    "    if v in top_values:\n",
    "        return v\n",
    "    return -74\n",
    "\n",
    "def proc_num_many_conc(c):\n",
    "    c = c.fillna(-73)\n",
    "    top_values = c.value_counts().head(TOP_N).index.tolist()\n",
    "    c2 = c.apply(lambda v: top_value_or_other_num(v, top_values))\n",
    "    ret = DataFrame(c2)\n",
    "    ret[c.name + '_orig'] = c\n",
    "    ret[c.name + '_cat'] = pd.cut(c, 3, labels=False)\n",
    "    return ret\n",
    "\n",
    "def proc_num_many_not_conc(c):\n",
    "    c = c.fillna(-73)\n",
    "    ret = DataFrame(c)\n",
    "    ret[c.name + '_cat'] = pd.cut(c, 3, labels=False)\n",
    "    return ret"
   ]
  },
  {
   "cell_type": "code",
   "execution_count": null,
   "metadata": {
    "collapsed": true
   },
   "outputs": [],
   "source": [
    "def proc_col(c):\n",
    "    n = len(c)\n",
    "    if c.dtype == 'object':\n",
    "        c.replace([np.inf, -np.inf], 'INF_VALUE')\n",
    "        if len(c.value_counts()) <= TOP_N:\n",
    "            return proc_obj_few(c)\n",
    "        else:\n",
    "            if c.value_counts().head(TOP_N).sum() >= (0.8 * n):\n",
    "                return proc_obj_many_conc(c)\n",
    "            else:\n",
    "                return None\n",
    "    else:\n",
    "        c.replace([np.inf, -np.inf], np.nan)\n",
    "        if len(c.value_counts()) <= TOP_N:\n",
    "            return proc_num_few(c)\n",
    "        else:\n",
    "            if c.value_counts().head(TOP_N).sum() >= (0.8 * n):\n",
    "                return proc_num_many_conc(c)\n",
    "            else:\n",
    "                return proc_num_many_not_conc(c)"
   ]
  },
  {
   "cell_type": "code",
   "execution_count": null,
   "metadata": {
    "collapsed": false
   },
   "outputs": [],
   "source": [
    "e = DataFrame(index=d.index)\n",
    "for c in d.columns:\n",
    "    f = proc_col(d[c])\n",
    "    del d[c]\n",
    "    if f is not None:\n",
    "        for x in f.columns:\n",
    "            try:\n",
    "                e[x] = f[x]\n",
    "            except:\n",
    "                pass\n",
    "    print c"
   ]
  },
  {
   "cell_type": "code",
   "execution_count": null,
   "metadata": {
    "collapsed": true
   },
   "outputs": [],
   "source": [
    "d = None"
   ]
  },
  {
   "cell_type": "code",
   "execution_count": null,
   "metadata": {
    "collapsed": false
   },
   "outputs": [],
   "source": [
    "e['target'] = dl"
   ]
  },
  {
   "cell_type": "code",
   "execution_count": null,
   "metadata": {
    "collapsed": true
   },
   "outputs": [],
   "source": [
    "e.to_csv('tmp/engineered_features_02.csv')"
   ]
  },
  {
   "cell_type": "code",
   "execution_count": null,
   "metadata": {
    "collapsed": false
   },
   "outputs": [],
   "source": [
    "e.info()"
   ]
  }
 ],
 "metadata": {
  "kernelspec": {
   "display_name": "Python 2",
   "language": "python",
   "name": "python2"
  },
  "language_info": {
   "codemirror_mode": {
    "name": "ipython",
    "version": 2
   },
   "file_extension": ".py",
   "mimetype": "text/x-python",
   "name": "python",
   "nbconvert_exporter": "python",
   "pygments_lexer": "ipython2",
   "version": "2.7.10"
  }
 },
 "nbformat": 4,
 "nbformat_minor": 0
}
